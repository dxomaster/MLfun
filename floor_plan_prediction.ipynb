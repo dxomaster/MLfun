{
  "nbformat": 4,
  "nbformat_minor": 0,
  "metadata": {
    "colab": {
      "name": "floor plan prediction.ipynb",
      "provenance": []
    },
    "kernelspec": {
      "name": "python3",
      "display_name": "Python 3"
    },
    "language_info": {
      "name": "python"
    }
  },
  "cells": [
    {
      "cell_type": "markdown",
      "source": [
        "# Floorplan prediction\n",
        "to use: upload export.pkl to current folder.\n",
        "then upload an image to current folder and change '1.jpg' to it's name."
      ],
      "metadata": {
        "id": "lldY3_W5OO9A"
      }
    },
    {
      "cell_type": "code",
      "execution_count": null,
      "metadata": {
        "id": "RVFsaptogPns"
      },
      "outputs": [],
      "source": [
        "from fastai.vision import *\n",
        "defaults.device = torch.device('cpu')"
      ]
    },
    {
      "cell_type": "code",
      "source": [
        "learn = load_learner(Path(''))\n",
        "def predict(image_path):\n",
        "  img = open_image(image_path)\n",
        "  \n",
        "  pred_class,pred_idx,outputs = learn.predict(img)\n",
        "  if(pred_class.obj == 'one'):\n",
        "    return 1\n",
        "  if pred_class.obj == 'two':\n",
        "    return 2\n",
        "  if pred_class.obj == 'three':\n",
        "    return 3\n",
        "  return  4"
      ],
      "metadata": {
        "id": "arHMYezNhFrc"
      },
      "execution_count": null,
      "outputs": []
    },
    {
      "cell_type": "code",
      "source": [
        "print(predict(Path('floorplan.png')))"
      ],
      "metadata": {
        "id": "jdT5aVn8hgqD",
        "colab": {
          "base_uri": "https://localhost:8080/"
        },
        "outputId": "96e2e6c1-3b4a-43b4-9fe7-6560eb64b968"
      },
      "execution_count": null,
      "outputs": [
        {
          "output_type": "stream",
          "name": "stdout",
          "text": [
            "3\n"
          ]
        }
      ]
    }
  ]
}